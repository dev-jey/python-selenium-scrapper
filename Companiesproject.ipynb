{
 "cells": [
  {
   "cell_type": "code",
   "execution_count": 1,
   "id": "senior-honolulu",
   "metadata": {},
   "outputs": [],
   "source": [
    "'''Imports for used packages'''\n",
    "import pandas as pd\n",
    "from selenium.webdriver.support import expected_conditions as EC\n",
    "from selenium.webdriver.common.by import By\n",
    "from selenium.webdriver.support.ui import WebDriverWait\n",
    "from selenium import webdriver\n",
    "from webdriver_manager.chrome import ChromeDriverManager\n",
    "from selenium.webdriver.chrome.options import Options"
   ]
  },
  {
   "cell_type": "code",
   "execution_count": 2,
   "id": "sticky-venice",
   "metadata": {},
   "outputs": [],
   "source": [
    "''' Set up selenium options'''\n",
    "options = webdriver.ChromeOptions()\n",
    "options.add_argument(\"--window-size=1920,1080\")\n",
    "options.add_argument(\"--headless\")"
   ]
  },
  {
   "cell_type": "code",
   "execution_count": 3,
   "id": "annoying-arnold",
   "metadata": {},
   "outputs": [
    {
     "name": "stderr",
     "output_type": "stream",
     "text": [
      "[WDM] - ====== WebDriver manager ======\n",
      "[WDM] - Current google-chrome version is 88.0.4324\n",
      "[WDM] - Get LATEST driver version for 88.0.4324\n"
     ]
    },
    {
     "name": "stdout",
     "output_type": "stream",
     "text": [
      "\n",
      "\n"
     ]
    },
    {
     "name": "stderr",
     "output_type": "stream",
     "text": [
      "[WDM] - Driver [/Users/jey/.wdm/drivers/chromedriver/mac64/88.0.4324.96/chromedriver] found in cache\n"
     ]
    }
   ],
   "source": [
    "driver = webdriver.Chrome(\n",
    "            ChromeDriverManager().install(), options=options)\n",
    "wait = WebDriverWait(driver, 30)"
   ]
  },
  {
   "cell_type": "code",
   "execution_count": 4,
   "id": "uniform-peripheral",
   "metadata": {},
   "outputs": [],
   "source": [
    "\n",
    "def organize_table_data(rows, attributes):\n",
    "    # Organize the retrieved table data by matching columns with respective table data\n",
    "    all_data = []\n",
    "    for row_item in rows:\n",
    "        data_items = []\n",
    "        for td in row_item.find_elements_by_tag_name(\"td\"):\n",
    "            data_items.append(''.join(td.text.split(',')))\n",
    "            detail = dict(zip(attributes, data_items))\n",
    "            all_data.append(detail)\n",
    "    return all_data"
   ]
  },
  {
   "cell_type": "code",
   "execution_count": 5,
   "id": "convenient-washington",
   "metadata": {},
   "outputs": [],
   "source": [
    "\n",
    "def scrap_data():\n",
    "    '''Make request to wikipedia for site map'''\n",
    "    driver.get(\n",
    "        'https://en.wikipedia.org/wiki/List_of_S%26P_500_companies')\n",
    "    # Wait until the table is visible\n",
    "    wait.until(\n",
    "        EC.element_to_be_clickable((By.XPATH, \"/html/body/div[3]/div[3]/div[5]/div[1]/table[1]/thead/tr/th[1]/a\")))\n",
    "\n",
    "    # Get all rows from the constituents table\n",
    "    rows = driver.find_element_by_id(\n",
    "        'constituents').find_elements_by_tag_name(\"tr\")\n",
    "\n",
    "    # Define the columns for the data frame\n",
    "    attributes = ['Symbol', 'Security', 'SEC Filings', 'GIS Sector', 'GIS Sub Industry', 'Head Qaurters location',\n",
    "                  'Date Added', 'CIK', 'Founded']\n",
    "\n",
    "    all_first_table_data = organize_table_data(rows, attributes)\n",
    "\n",
    "    df = pd.DataFrame.from_dict(all_first_table_data)\n",
    "    # Drop all null records in dataframe\n",
    "    df.dropna(inplace=True)\n",
    "    # Select only the needed columns\n",
    "    df1 = df[['Symbol', 'Security', 'CIK', 'GIS Sector', 'GIS Sub Industry']]\n",
    "    # Rename the columns\n",
    "    df1.columns = ['Ticker', 'Company Name', 'CIK', 'General Industry', 'Sub Industry']\n",
    "    # Write the data to excel file called companies\n",
    "    writer = pd.ExcelWriter('companies.xlsx', engine='xlsxwriter')\n",
    "    df1.to_excel(writer, sheet_name='Sheet2', index=False)\n",
    "    writer.save()"
   ]
  },
  {
   "cell_type": "code",
   "execution_count": null,
   "id": "instructional-appraisal",
   "metadata": {},
   "outputs": [],
   "source": []
  },
  {
   "cell_type": "code",
   "execution_count": 6,
   "id": "plain-hardwood",
   "metadata": {},
   "outputs": [],
   "source": [
    "scrap_data()"
   ]
  },
  {
   "cell_type": "code",
   "execution_count": null,
   "id": "forty-ethernet",
   "metadata": {},
   "outputs": [],
   "source": []
  }
 ],
 "metadata": {
  "kernelspec": {
   "display_name": "Python 3",
   "language": "python",
   "name": "python3"
  },
  "language_info": {
   "codemirror_mode": {
    "name": "ipython",
    "version": 3
   },
   "file_extension": ".py",
   "mimetype": "text/x-python",
   "name": "python",
   "nbconvert_exporter": "python",
   "pygments_lexer": "ipython3",
   "version": "3.8.5"
  }
 },
 "nbformat": 4,
 "nbformat_minor": 5
}
