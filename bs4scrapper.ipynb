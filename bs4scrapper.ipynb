{
 "cells": [
  {
   "cell_type": "code",
   "execution_count": 1,
   "id": "sustained-malawi",
   "metadata": {},
   "outputs": [],
   "source": [
    "'''Imports for used packages'''\n",
    "import requests\n",
    "import pandas as pd\n",
    "from bs4 import BeautifulSoup"
   ]
  },
  {
   "cell_type": "code",
   "execution_count": 2,
   "id": "parliamentary-stephen",
   "metadata": {},
   "outputs": [],
   "source": [
    "def scrap_data():\n",
    "        page = requests.get(\"https://en.wikipedia.org/wiki/List_of_S%26P_500_companies\")\n",
    "        soup = BeautifulSoup(page.content, 'html.parser')\n",
    "        # Get all rows from the constituents table\n",
    "        rows = soup.find('table', id='constituents').find_all(\"tr\")\n",
    "\n",
    "        # Define the columns for the data frame\n",
    "        attributes = ['Symbol', 'Security', 'SEC Filings', 'GIS Sector', 'GIS Sub Industry', 'Head Qaurters location',\n",
    "                      'Date Added', 'CIK', 'Founded']\n",
    "\n",
    "        all_first_table_data = organize_table_data(rows, attributes)\n",
    "        \n",
    "        df = pd.DataFrame.from_dict(all_first_table_data)\n",
    "        # Drop all null records in dataframe\n",
    "        df.dropna(inplace=True)\n",
    "        # Select only the needed columns\n",
    "        df1 = df[['Symbol', 'Security', 'CIK', 'GIS Sector', 'GIS Sub Industry']]\n",
    "        # Rename the columns\n",
    "        df1.columns = ['Ticker', 'Company Name', 'CIK', 'General Industry', 'Sub Industry']\n",
    "        # Write the data to excel file called companies\n",
    "        writer = pd.ExcelWriter('companies.xlsx', engine='xlsxwriter')\n",
    "        df1.to_excel(writer, sheet_name='Sheet2', index=False)\n",
    "        writer.save()"
   ]
  },
  {
   "cell_type": "code",
   "execution_count": 3,
   "id": "royal-correlation",
   "metadata": {},
   "outputs": [],
   "source": [
    "def organize_table_data(rows, attributes):\n",
    "        # Organize the retrieved table data by matching columns with respective table data\n",
    "        all_data = []\n",
    "        for row_item in rows:\n",
    "            data_items = []\n",
    "            for td in row_item.find_all(\"td\"):\n",
    "                data_items.append(''.join(td.text.split(',')))\n",
    "                detail = dict(zip(attributes, data_items))\n",
    "                all_data.append(detail)\n",
    "        return all_data\n"
   ]
  },
  {
   "cell_type": "code",
   "execution_count": 4,
   "id": "signal-alert",
   "metadata": {},
   "outputs": [],
   "source": [
    "scrap_data()"
   ]
  },
  {
   "cell_type": "code",
   "execution_count": null,
   "id": "packed-observer",
   "metadata": {},
   "outputs": [],
   "source": []
  }
 ],
 "metadata": {
  "kernelspec": {
   "display_name": "Python 3",
   "language": "python",
   "name": "python3"
  },
  "language_info": {
   "codemirror_mode": {
    "name": "ipython",
    "version": 3
   },
   "file_extension": ".py",
   "mimetype": "text/x-python",
   "name": "python",
   "nbconvert_exporter": "python",
   "pygments_lexer": "ipython3",
   "version": "3.8.5"
  }
 },
 "nbformat": 4,
 "nbformat_minor": 5
}
